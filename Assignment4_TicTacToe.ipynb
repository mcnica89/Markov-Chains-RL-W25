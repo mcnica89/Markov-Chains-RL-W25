{
  "nbformat": 4,
  "nbformat_minor": 0,
  "metadata": {
    "colab": {
      "provenance": [],
      "authorship_tag": "ABX9TyPMFOpyyyKMtu/hAn0yAo18",
      "include_colab_link": true
    },
    "kernelspec": {
      "name": "python3",
      "display_name": "Python 3"
    },
    "language_info": {
      "name": "python"
    }
  },
  "cells": [
    {
      "cell_type": "markdown",
      "metadata": {
        "id": "view-in-github",
        "colab_type": "text"
      },
      "source": [
        "<a href=\"https://colab.research.google.com/github/mcnica89/Markov-Chains-RL-W25/blob/main/Assignment4_TicTacToe.ipynb\" target=\"_parent\"><img src=\"https://colab.research.google.com/assets/colab-badge.svg\" alt=\"Open In Colab\"/></a>"
      ]
    },
    {
      "cell_type": "code",
      "execution_count": 1,
      "metadata": {
        "id": "XngtOSWvn8kH"
      },
      "outputs": [],
      "source": [
        "import jax.numpy as jnp\n",
        "import jax\n",
        "from einops import rearrange, reduce, repeat\n",
        "\n",
        "import numpy as np\n",
        "import time\n",
        "\n",
        "#Global constants for size of board\n",
        "N_ROWS = 3\n",
        "N_COLS = 3\n",
        "N_POSSIBLE = N_ROWS*N_COLS #maximum possible number of moves at any stage\n",
        "MAX_GAME_LENGTH = N_ROWS*N_COLS #maximum game length"
      ]
    },
    {
      "cell_type": "markdown",
      "source": [
        "# Helper Functions"
      ],
      "metadata": {
        "id": "zYOs9pbToCVE"
      }
    },
    {
      "cell_type": "code",
      "source": [
        "def create_k_in_a_lines(k=3):\n",
        "    '''Creates a (n_k_in_a_lines, N_ROWS, N_COLS) array with all the possible k in a lines. Slow! Try to only run it once...'''\n",
        "    #Input: k is the length of the k-in-a-rows to generate\n",
        "    #Output: Boolean array of shape (n_k_in_a_lines, N_ROWS, N_COLS) array with all possible k_in_a_lines\n",
        "\n",
        "    k_in_a_line_list = []  # List to store winning line_arrays\n",
        "\n",
        "    # Horizontal lines\n",
        "    for r in range(N_ROWS):\n",
        "        for c in range(N_COLS - k + 1):\n",
        "            line_array = np.zeros((N_ROWS, N_COLS), dtype=bool)\n",
        "            line_array[r, c:c+k] = True\n",
        "            k_in_a_line_list.append(line_array)\n",
        "\n",
        "    # Vertical lines\n",
        "    for c in range(N_COLS):\n",
        "        for r in range(N_ROWS - k + 1):\n",
        "            line_array = np.zeros((N_ROWS, N_COLS), dtype=bool)\n",
        "            line_array[r:r+k, c] = True\n",
        "            k_in_a_line_list.append(line_array)\n",
        "\n",
        "    # Diagonal (bottom-left to top-right)\n",
        "    for r in range(N_ROWS - k + 1):\n",
        "        for c in range(N_COLS - k + 1):\n",
        "            line_array = np.zeros((N_ROWS, N_COLS), dtype=bool)\n",
        "            for i in range(k):\n",
        "                line_array[r + i, c + i] = True\n",
        "            k_in_a_line_list.append(line_array)\n",
        "\n",
        "    # Diagonal (top-left to bottom-right)\n",
        "    for r in range(k - 1, N_ROWS):\n",
        "        for c in range(N_COLS - k + 1):\n",
        "            line_array = np.zeros((N_ROWS, N_COLS), dtype=bool)\n",
        "            for i in range(k):\n",
        "                line_array[r - i, c + i] = True\n",
        "            k_in_a_line_list.append(line_array)\n",
        "\n",
        "    # Stack to Final Shape: (n_k_in_a_lines, N_ROWS, N_COLS)\n",
        "    stacked_k_in_a_lines = np.stack(k_in_a_line_list)\n",
        "    return stacked_k_in_a_lines"
      ],
      "metadata": {
        "id": "J8qXBUrfoAD1"
      },
      "execution_count": 2,
      "outputs": []
    },
    {
      "cell_type": "code",
      "source": [
        "THREE_IN_A_LINE_MASK = jnp.logical_not(create_k_in_a_lines(k=3))\n",
        "#Shape (n_3_IN_A_LINEs, N_ROWS, N_COLS) For a 3x3 board n_3_IN_A_LINEs is 8\n",
        "\n",
        "@jax.jit\n",
        "def which_three_in_a_line(board_bool):\n",
        "  '''Inputs a boolean board of shape (...,N_ROWS,N_COLS) and outputs a boolean array of shape (...,n_3_IN_A_LINEs) with which of the possible 3-in-a-lines are there'''\n",
        "  #Input: board_bool shape (..., N_ROWS, N_COLS) representing a subset of a board\n",
        "  #Output: shape (..., n_3_in_a_lines) of bool with which 3-in-a-lines are there or not\n",
        "\n",
        "  #Shape (..., 1, N_ROWS, N_COLS) so it can be broadcasted with the create_k_lines_mask\n",
        "  broadcastable_board = rearrange(board_bool, '... row col -> ... 1 row col')  #Shape (..., 1, N_ROWS, N_COLS) so it can be broadcast\n",
        "\n",
        "  line_check_board = jnp.logical_or(THREE_IN_A_LINE_MASK, broadcastable_board )\n",
        "  #Shape: ( ... , n_3_in_a_lines, N_ROW, N_COLS) by broadcasting\n",
        "  #..By using a logical_or the board will be ALL trues iff there is a 3 in line\n",
        "\n",
        "\n",
        "  #reduce out the row and column dimensions by doing an 'all' command\n",
        "  which_lines = reduce(line_check_board , '... n_line r c -> ... n_line', 'all')\n",
        "\n",
        "  return which_lines\n",
        "\n",
        "@jax.jit\n",
        "def any_three_in_a_line(board_bool):\n",
        "  '''Inputs a boolean board of shape (...,N_ROWS,N_COLS) and outputs a boolean array of shape (...) with if it has ANY 3-in-a-lines or not'''\n",
        "  #Input: board_bool shape (..., N_ROWS, N_COLS) representing a subset of a board\n",
        "  #Output: shape (..., n_3_in_a_lines) of bool with which 3-in-a-lines are there or not\n",
        "\n",
        "  which = which_three_in_a_line(board_bool)\n",
        "  return reduce(which, '... n_line -> ...', 'any')\n",
        "\n",
        "#Examples:\n",
        "board = jnp.array([[1,1,1],[1,0,0],[1,0,0]])\n",
        "print(which_three_in_a_line(board))\n",
        "print(any_three_in_a_line(board))"
      ],
      "metadata": {
        "colab": {
          "base_uri": "https://localhost:8080/"
        },
        "id": "DW7YoIMzoE1e",
        "outputId": "1239a9f9-164e-4808-889d-ee68d4b5a319"
      },
      "execution_count": 3,
      "outputs": [
        {
          "output_type": "stream",
          "name": "stdout",
          "text": [
            "[ True False False  True False False False False]\n",
            "True\n"
          ]
        }
      ]
    },
    {
      "cell_type": "code",
      "source": [
        "#POSSIBLE_MOVES_ROWCOL is a static array of shape (N_ROWS, N_COLS, N_ROWS, N_COLS) with all possible moves from an *empty* board. The moves are filled in with a single 1, and all empty squaresa re 0.\n",
        "#The (:,:,row_ix,col_ix) array is what you get when you play in row_ix, col_ix\n",
        "POSSIBLE_MOVES_ROWCOL = jnp.stack([\n",
        "    jnp.stack([\n",
        "        # Set a move (1) at position (row_ix, col_ix)\n",
        "        jnp.zeros((N_ROWS, N_COLS), dtype=int).at[row_ix, col_ix].set(1)\n",
        "        for col_ix in range(N_COLS)\n",
        "    ])\n",
        "    for row_ix in range(N_ROWS)\n",
        "])\n",
        "\n",
        "@jax.jit\n",
        "def possible_moves(board_int, fill_val):\n",
        "  '''Inputs a boolean board of shape (...,N_ROWS,N_COLS) and returns a boolean array of shape\n",
        "   (...,N_POSSIBLE,N_ROWS,N_COLS) with ALL the possible game states after the move\n",
        "   as well as a an array (...,N_POSSIBLE) of bool with whether or not each move is legal.'''\n",
        "   #Input: board_int is an int array of shape (...,N_ROWS,N_COLS) which represents the board. Assumes that any \"0\"s in the board_int is an empty square that can be played in. \"fill_val\" is the value that is filled in in the empty squares. So some of the 0s get replaced by \"fill_vals\" in the possible moves.\n",
        "   #Output: Two arrays: moves, legal\n",
        "   # moves is shape (...,N_POSSIBLE, N_ROWS, N_COLS) of int with all the possible moves one can makle from board_int. If a move is illegal, it will just return the original board_int.\n",
        "   # legal is shape (...,N_POSSIBLE) of boolean with whether or not each possible move is a legal move or not. In pig-tac-toe/tic-tac-toe a move is legal if and only the square is empty (i.e. ==0)\n",
        "\n",
        "  #First we do things with 2 axes, N_ROWS,N_COLS, and then we flatten it down to a single axis of N_POSSIBLE = N_ROWS*N_COLS\n",
        "\n",
        "  legal_moves_ROWCOL = (board_int == 0) #Shape (..., N_ROWS, N_COLS)\n",
        "  #Create a shape (..., N_ROWS, N_COLS, 1, 1) so it can be broadcast correctly\n",
        "  broadcastable_legal = rearrange(legal_moves_ROWCOL, '... row col -> ... row col 1 1')\n",
        "\n",
        "  #add axes to the board so it can be broadcast\n",
        "  broadcastable_board = rearrange(board_int, '... row col -> ... row col 1 1')\n",
        "\n",
        "  #Play the legal moves by adding the move to it. Otherwise return the original board.\n",
        "  broadcastable_fill_val = rearrange(fill_val, '... -> ... 1 1 1 1')\n",
        "\n",
        "  #Create the moves played in the legal moves, using the POSSIBLE_MOVES_ROWCOL array.\n",
        "  move_played_ROWCOL = jnp.where(broadcastable_legal,\n",
        "                                 broadcastable_board + broadcastable_fill_val*POSSIBLE_MOVES_ROWCOL, broadcastable_board)\n",
        "\n",
        "  #flatten it the down to the promised axis.\n",
        "  move_played_flat = rearrange(move_played_ROWCOL, '... row_game col_game row_move col_move -> ... (row_move col_move) row_game col_game')\n",
        "\n",
        "  legal_moves_flat = rearrange(legal_moves_ROWCOL, '... row_move col_move  -> ... (row_move col_move)')\n",
        "\n",
        "  return move_played_flat, legal_moves_flat\n",
        "\n",
        "\n",
        "#Examples:\n",
        "board = jnp.array([[1,1,1],[1,0,0],[1,0,0]])\n",
        "fill_val = 2\n",
        "moves, legal = possible_moves(board, fill_val)\n",
        "for ix in range(N_POSSIBLE):\n",
        "    print(\"----\")\n",
        "    print(legal[ix])\n",
        "    print(moves[ix,:,:])"
      ],
      "metadata": {
        "colab": {
          "base_uri": "https://localhost:8080/"
        },
        "id": "TeHt2RYnoH0r",
        "outputId": "f48d003b-b3db-4af7-829e-246b88fd913c"
      },
      "execution_count": 4,
      "outputs": [
        {
          "output_type": "stream",
          "name": "stdout",
          "text": [
            "----\n",
            "False\n",
            "[[1 1 1]\n",
            " [1 0 0]\n",
            " [1 0 0]]\n",
            "----\n",
            "False\n",
            "[[1 1 1]\n",
            " [1 0 0]\n",
            " [1 0 0]]\n",
            "----\n",
            "False\n",
            "[[1 1 1]\n",
            " [1 0 0]\n",
            " [1 0 0]]\n",
            "----\n",
            "False\n",
            "[[1 1 1]\n",
            " [1 0 0]\n",
            " [1 0 0]]\n",
            "----\n",
            "True\n",
            "[[1 1 1]\n",
            " [1 2 0]\n",
            " [1 0 0]]\n",
            "----\n",
            "True\n",
            "[[1 1 1]\n",
            " [1 0 2]\n",
            " [1 0 0]]\n",
            "----\n",
            "False\n",
            "[[1 1 1]\n",
            " [1 0 0]\n",
            " [1 0 0]]\n",
            "----\n",
            "True\n",
            "[[1 1 1]\n",
            " [1 0 0]\n",
            " [1 2 0]]\n",
            "----\n",
            "True\n",
            "[[1 1 1]\n",
            " [1 0 0]\n",
            " [1 0 2]]\n"
          ]
        }
      ]
    },
    {
      "cell_type": "code",
      "source": [
        "@jax.jit\n",
        "def select_moves_by_ix(moves, ixs):\n",
        "  '''Given the choices in ixs, pull the correct move out of the moves array'''\n",
        "  #INPUT: moves is shape (...,N_POSSIBLE, N_ROWS,N_COLS) with the possible moves\n",
        "  #       ix is shape (...) with the ixs that were chosen\n",
        "  #OUTPUT: (...,N_ROWS,N_COLS) with the chosen move. Similar to moves[ixs] but works even for higher dimension sizes.\n",
        "\n",
        "  #add dimensions so it can be broadcast against the moves\n",
        "  broadcastable_ixs = rearrange(ixs, '... -> ... 1 1 1')\n",
        "\n",
        "  # Use take_along_axis to select the corresponding moves along the N_POSSIBLE axis (-3), which is the \"N_POSSIBLE\" axis.\n",
        "  selected_moves = jnp.take_along_axis(moves, broadcastable_ixs, axis=-3)\n",
        "\n",
        "  # since moves has shape (..., N_POSSIBLE, N_ROW, N_COL) so after selection we get (..., 1, N_ROW, N_COL)\n",
        "\n",
        "  # Remove the singleton dimension\n",
        "  selected_moves = rearrange(selected_moves, '... 1 row col -> ... row col')\n",
        "  return selected_moves\n",
        "\n",
        "#Examples:\n",
        "key = jax.random.PRNGKey(0)\n",
        "fill_val = 2\n",
        "board = jnp.array([[1,1,1],[1,0,0],[1,0,0]])\n",
        "moves, legal = possible_moves(board, fill_val)\n",
        "ix = jnp.where(legal==True)[0][0] #Play the first available legal move!\n",
        "print(select_moves_by_ix(moves,ix))"
      ],
      "metadata": {
        "colab": {
          "base_uri": "https://localhost:8080/"
        },
        "id": "xgzASEIWoqt2",
        "outputId": "1cc6ab54-5f86-4136-be75-b74d910f7ed9"
      },
      "execution_count": 5,
      "outputs": [
        {
          "output_type": "stream",
          "name": "stdout",
          "text": [
            "[[1 1 1]\n",
            " [1 2 0]\n",
            " [1 0 0]]\n"
          ]
        }
      ]
    },
    {
      "cell_type": "code",
      "source": [
        "@jax.jit\n",
        "def P1_P2_swap(board):\n",
        "  #Swaps the 1s <-> 2s so that the AI can always assume that its Player 1\n",
        "  return jnp.where(board == 1, 2, jnp.where(board == 2, 1, board))\n",
        "\n",
        "\n",
        "#Example:\n",
        "board = jnp.array([[1,1,1],[2,0,0],[2,0,0]])\n",
        "print(P1_P2_swap(board))"
      ],
      "metadata": {
        "colab": {
          "base_uri": "https://localhost:8080/"
        },
        "id": "6y_y6qegowa1",
        "outputId": "0d626f80-15d0-4fce-d8fe-5a57c237e825"
      },
      "execution_count": 6,
      "outputs": [
        {
          "output_type": "stream",
          "name": "stdout",
          "text": [
            "[[2 2 2]\n",
            " [1 0 0]\n",
            " [1 0 0]]\n"
          ]
        }
      ]
    },
    {
      "cell_type": "markdown",
      "source": [
        "# The Random Move AI"
      ],
      "metadata": {
        "id": "7Mj3-Nhzo0r2"
      }
    },
    {
      "cell_type": "code",
      "source": [
        "def random_move_AI(key, moves, legal):\n",
        "  '''Simplest possible AI that returns a random legal move and chooses to roll again or not purely at random'''\n",
        "  #Input: key is a JAX random key object\n",
        "  #  moves is shape (N_POSSIBLE, N_ROW, N_COL) with the possible moves\n",
        "  #  legal is shape (N_POSSIBLE) with whether or not each move is legal\n",
        "  #\n",
        "  #Output: move_ix, roll_again\n",
        "  #move_ix is an ix for a *legal* move\n",
        "  #roll_again is whether or not to roll again\n",
        "\n",
        "  #Random keys used for randomness\n",
        "  key, subkey = jax.random.split(key)\n",
        "\n",
        "  #Choose a random move, but only amongst the legal moves\n",
        "  move_ix = jax.random.choice(subkey, np.arange(N_POSSIBLE,dtype=int), p=legal)\n",
        "\n",
        "  return move_ix\n",
        "\n",
        "#Examples:\n",
        "key = jax.random.PRNGKey(0)\n",
        "fill_val = 2\n",
        "board = jnp.array([[1,1,1],[1,0,0],[1,0,0]])\n",
        "moves, legal = possible_moves(board, fill_val)\n",
        "ix = random_move_AI(key,moves,legal)\n",
        "print(select_moves_by_ix(moves,ix))"
      ],
      "metadata": {
        "colab": {
          "base_uri": "https://localhost:8080/"
        },
        "id": "j_N2zpBeo2av",
        "outputId": "eea783f4-495f-4945-e5ba-270cee364645"
      },
      "execution_count": 7,
      "outputs": [
        {
          "output_type": "stream",
          "name": "stdout",
          "text": [
            "[[1 1 1]\n",
            " [1 0 0]\n",
            " [1 0 2]]\n"
          ]
        }
      ]
    },
    {
      "cell_type": "markdown",
      "source": [
        "# 1-Turn-Greedy AI"
      ],
      "metadata": {
        "id": "ptoMLmeirJad"
      }
    },
    {
      "cell_type": "code",
      "source": [
        "def greedy_AI(key, moves, legal):\n",
        "  '''AI that does two things: 1. Takes any 3 in a line available, 2. If on the enemies next turn'''\n",
        "  #Input: key is a JAX random key object\n",
        "  #  moves is shape (N_POSSIBLE, N_ROW, N_COL) with the possible moves\n",
        "  #  legal is shape (N_POSSIBLE) with whether or not each move is legal\n",
        "  #\n",
        "  #Output: move_ix, roll_again\n",
        "  #move_ix is an ix for a *legal* move\n",
        "  #roll_again is whether or not to roll again\n",
        "\n",
        "  me_player = 1 #Its setup so the AI always plays from the point of view of player 1.\n",
        "  enemy_player = 2\n",
        "\n",
        "  #will be filled in!\n",
        "  possible_move_choices = jnp.zeros(N_POSSIBLE, dtype=bool) #Shape (N_POSSIBLE)\n",
        "\n",
        "\n",
        "  which_moves_are_3_in_a_lines = any_three_in_a_line(moves==me_player) #Shape(N_POSSIBLE)\n",
        "  if jnp.any(which_moves_are_3_in_a_lines):\n",
        "    #Choose a random move from amongst the moves that let us win!\n",
        "    possible_move_choices = which_moves_are_3_in_a_lines\n",
        "\n",
        "  else: #we don't have a win, so lets see if the opponent would have one!\n",
        "    #By taking the minimum, we get what the state was that led to this move list.\n",
        "    previous_state = reduce(moves, 'move_ix row col -> row col','min')\n",
        "    enemy_moves, enemy_legal = possible_moves(previous_state, fill_val=enemy_player) #possible moves if the enemy was going to move instead of us...\n",
        "    possible_move_choices = any_three_in_a_line(enemy_moves==enemy_player)\n",
        "\n",
        "  possible_move_choices = jnp.logical_and( possible_move_choices, legal ) #make sure to only choose from a legal move...\n",
        "\n",
        "  if not jnp.any(possible_move_choices):\n",
        "    #if there aren't any choice, then just pick a random legal move\n",
        "    possible_move_choices = legal\n",
        "\n",
        "\n",
        "  key, subkey = jax.random.split(key)\n",
        "  move_ix = jax.random.choice(subkey, np.arange(N_POSSIBLE,dtype=int), p=possible_move_choices)\n",
        "  #this will choose purely randomly if they are all False.\n",
        "\n",
        "  return move_ix"
      ],
      "metadata": {
        "id": "ja34ZOoLrI48"
      },
      "execution_count": 8,
      "outputs": []
    },
    {
      "cell_type": "markdown",
      "source": [
        "# Your AI Here"
      ],
      "metadata": {
        "id": "0TheuNu70zMP"
      }
    },
    {
      "cell_type": "code",
      "source": [
        "params = None #make some parameters to use on your AI!\n",
        "\n",
        "def value_function(params, board):\n",
        "  #use the params to create a value function here\n",
        "  value = None\n",
        "  return value\n",
        "\n",
        "def my_AI(key, moves, legal):\n",
        "  '''Simplest possible AI that returns a random legal move and chooses to roll again or not purely at random'''\n",
        "  #Input: key is a JAX random key object\n",
        "  #  moves is shape (N_POSSIBLE, N_ROW, N_COL) with the possible moves\n",
        "  #  legal is shape (N_POSSIBLE) with whether or not each move is legal\n",
        "  #\n",
        "  #Output: move_ix, roll_again\n",
        "  #move_ix is an ix for a *legal* move\n",
        "  #roll_again is whether or not to roll again\n",
        "\n",
        "  #Random keys used for randomness\n",
        "  key, subkey = jax.random.split(key)\n",
        "\n",
        "  #Choose a move!\n",
        "  #Replace the current code which chooses randomly with code that choose according to your value function (HINT: use jnp.argmax)\n",
        "\n",
        "  move_ix = jax.random.choice(subkey, np.arange(N_POSSIBLE,dtype=int), p=legal)\n",
        "\n",
        "  return move_ix\n",
        "\n",
        "#Examples:\n",
        "key = jax.random.PRNGKey(0)\n",
        "fill_val = 2\n",
        "board = jnp.array([[1,1,1],[1,0,0],[1,0,0]])\n",
        "moves, legal = possible_moves(board, fill_val)\n",
        "ix = my_AI(key,moves,legal)\n",
        "print(select_moves_by_ix(moves,ix))"
      ],
      "metadata": {
        "colab": {
          "base_uri": "https://localhost:8080/"
        },
        "id": "r37bRY-T04C5",
        "outputId": "4135925e-8a32-4830-9fc8-d31dadcbb090"
      },
      "execution_count": 9,
      "outputs": [
        {
          "output_type": "stream",
          "name": "stdout",
          "text": [
            "[[1 1 1]\n",
            " [1 0 0]\n",
            " [1 0 2]]\n"
          ]
        }
      ]
    },
    {
      "cell_type": "markdown",
      "source": [
        "# Tic-Tac-Toe Game Simulation (One Game at a Time)\n"
      ],
      "metadata": {
        "id": "jJz_EHEdpHNJ"
      }
    },
    {
      "cell_type": "code",
      "source": [
        "#Function to print out a board state as text\n",
        "def print_board(board):\n",
        "    symbols = {0:\".\",1:'X', 2:'O'} #what each board entry represents\n",
        "    # 1 = Player 1 actual piece (X)\n",
        "    # 2 = Player 2 actual piece (O)\n",
        "\n",
        "    for row in range(N_ROWS):\n",
        "        print(\" | \".join(symbols[int(board[row,col])] for col in range(N_COLS)))\n",
        "        print(\"-\"*(N_COLS*4-3))\n",
        "    print()"
      ],
      "metadata": {
        "id": "ckbG_Bjto29H"
      },
      "execution_count": 10,
      "outputs": []
    },
    {
      "cell_type": "code",
      "source": [
        "#########\n",
        "# TIC TAC TOE Game loop\n",
        "# Simulates ONE game a time\n",
        "#########\n",
        "\n",
        "num_episodes = 1 #number of games to simulate\n",
        "VERBOSE = True #whether or not to print game details as you go.\n",
        "\n",
        "AIs = [random_move_AI, greedy_AI] #AIs for Player 1 and Player 2\n",
        "key = jax.random.PRNGKey(int(time.time())) #random key used for JAX\n",
        "\n",
        "for episode in range(num_episodes):\n",
        "\n",
        "  print(f\"\\n====Episode {episode+1}====\") if VERBOSE else None\n",
        "\n",
        "  ##############\n",
        "  #Initialize things for the game\n",
        "  ##############\n",
        "  key, subkey = jax.random.split(key)\n",
        "  current_player = ( jax.random.uniform(subkey)<0.5 ) + 1 #choose random starting player\n",
        "  board = jnp.zeros((N_ROWS, N_COLS), dtype=int) #board starts out empty\n",
        "  game_over = False\n",
        "  key, subkey_ai = jax.random.split(key,2) #random keys to give to the ai\n",
        "  ai_key = jax.random.split(subkey_ai, MAX_GAME_LENGTH)\n",
        "\n",
        "  ############\n",
        "  # Main Loop for the Truns\n",
        "  ############\n",
        "  for turn in range(MAX_GAME_LENGTH):\n",
        "    if game_over == False:\n",
        "\n",
        "\n",
        "      #Reminder: on the board, 0=Empty, 1=Player 1, 2=Player 2\n",
        "      # so we get the legal moves by filling in with current_player.\n",
        "      moves, legal = possible_moves(board, fill_val=current_player) #Get all possible moves and their legality\n",
        "\n",
        "      #AI chooses a move_ix from the available moves\n",
        "\n",
        "      if current_player == 1:\n",
        "        move_ix = AIs[0](ai_key[turn], moves, legal)\n",
        "      elif current_player == 2:\n",
        "        #Swap the 1s <-> 2s so the AI can think as if its Player 1\n",
        "        move_ix = AIs[1](ai_key[turn], P1_P2_swap(moves), legal)\n",
        "\n",
        "\n",
        "      board = select_moves_by_ix(moves, move_ix) #Update the board\n",
        "\n",
        "      print(f\"Turn #{turn}\") if VERBOSE else None\n",
        "      print_board(board) if VERBOSE else None\n",
        "\n",
        "      #check if currnt player has a 3 in a line by doing an \"any\" on which three in a lines the have\n",
        "      game_over = any_three_in_a_line(board == current_player)  #game ends if they have it!\n",
        "\n",
        "      current_player = 3-current_player #switch players here\n",
        "\n",
        "  ####\n",
        "  # After game clean up\n",
        "  ####\n",
        "  print(f\"Game End\") if VERBOSE else None\n",
        "  print_board(board) if VERBOSE else None\n",
        "\n",
        "\n",
        "  #Tic Tac Toe can also be thought of in terms of victory points, where there is at most 1 victory point in play!\n",
        "  which_victory_points = 1.0*which_three_in_a_line(board == 1) - 1.0*which_three_in_a_line(board == 2)\n",
        "  net_victory_points = reduce(which_victory_points, '... n_line -> ...', 'sum')\n",
        "\n",
        "  print(f\" Final victory point diff: {net_victory_points}\") if VERBOSE else None"
      ],
      "metadata": {
        "colab": {
          "base_uri": "https://localhost:8080/"
        },
        "id": "iHhMYQCipSLi",
        "outputId": "cefa72c5-ecb1-450a-a2ab-1c136ab0c982"
      },
      "execution_count": 21,
      "outputs": [
        {
          "output_type": "stream",
          "name": "stdout",
          "text": [
            "\n",
            "====Episode 1====\n",
            "Turn #0\n",
            ". | . | .\n",
            "---------\n",
            ". | . | O\n",
            "---------\n",
            ". | . | .\n",
            "---------\n",
            "\n",
            "Turn #1\n",
            ". | . | X\n",
            "---------\n",
            ". | . | O\n",
            "---------\n",
            ". | . | .\n",
            "---------\n",
            "\n",
            "Turn #2\n",
            ". | . | X\n",
            "---------\n",
            ". | . | O\n",
            "---------\n",
            ". | O | .\n",
            "---------\n",
            "\n",
            "Turn #3\n",
            ". | X | X\n",
            "---------\n",
            ". | . | O\n",
            "---------\n",
            ". | O | .\n",
            "---------\n",
            "\n",
            "Turn #4\n",
            "O | X | X\n",
            "---------\n",
            ". | . | O\n",
            "---------\n",
            ". | O | .\n",
            "---------\n",
            "\n",
            "Turn #5\n",
            "O | X | X\n",
            "---------\n",
            ". | . | O\n",
            "---------\n",
            "X | O | .\n",
            "---------\n",
            "\n",
            "Turn #6\n",
            "O | X | X\n",
            "---------\n",
            ". | O | O\n",
            "---------\n",
            "X | O | .\n",
            "---------\n",
            "\n",
            "Turn #7\n",
            "O | X | X\n",
            "---------\n",
            ". | O | O\n",
            "---------\n",
            "X | O | X\n",
            "---------\n",
            "\n",
            "Turn #8\n",
            "O | X | X\n",
            "---------\n",
            "O | O | O\n",
            "---------\n",
            "X | O | X\n",
            "---------\n",
            "\n",
            "Game End\n",
            "O | X | X\n",
            "---------\n",
            "O | O | O\n",
            "---------\n",
            "X | O | X\n",
            "---------\n",
            "\n",
            " Final victory point diff: -1.0\n"
          ]
        }
      ]
    }
  ]
}