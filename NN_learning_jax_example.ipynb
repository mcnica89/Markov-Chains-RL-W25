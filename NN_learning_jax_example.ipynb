{
  "nbformat": 4,
  "nbformat_minor": 0,
  "metadata": {
    "colab": {
      "provenance": [],
      "authorship_tag": "ABX9TyORTdmPIOMARQ6MJ9dMZNSO",
      "include_colab_link": true
    },
    "kernelspec": {
      "name": "python3",
      "display_name": "Python 3"
    },
    "language_info": {
      "name": "python"
    }
  },
  "cells": [
    {
      "cell_type": "markdown",
      "metadata": {
        "id": "view-in-github",
        "colab_type": "text"
      },
      "source": [
        "<a href=\"https://colab.research.google.com/github/mcnica89/Markov-Chains-RL-W25/blob/main/NN_learning_jax_example.ipynb\" target=\"_parent\"><img src=\"https://colab.research.google.com/assets/colab-badge.svg\" alt=\"Open In Colab\"/></a>"
      ]
    },
    {
      "cell_type": "code",
      "execution_count": 1,
      "metadata": {
        "id": "b88WCLBjzZg9"
      },
      "outputs": [],
      "source": [
        "import jax\n",
        "import jax.numpy as jnp\n",
        "from einops import rearrange, reduce\n",
        "import numpy as np\n",
        "N_ROWS = 4\n",
        "N_COLS = 4"
      ]
    },
    {
      "cell_type": "markdown",
      "source": [
        "# 3 in a liner Helpers"
      ],
      "metadata": {
        "id": "nuDaiGvI9RNG"
      }
    },
    {
      "cell_type": "code",
      "source": [
        "def create_k_in_a_lines(k=3):\n",
        "    '''Creates a (n_k_in_a_lines, N_ROWS, N_COLS) array with all the possible k in a lines. Slow! Try to only run it once...'''\n",
        "    #Input: k is the length of the k-in-a-rows to generate\n",
        "    #Output: Boolean array of shape (n_k_in_a_lines, N_ROWS, N_COLS) array with all possible k_in_a_lines\n",
        "\n",
        "    k_in_a_line_list = []  # List to store winning line_arrays\n",
        "\n",
        "    # Horizontal lines\n",
        "    for r in range(N_ROWS):\n",
        "        for c in range(N_COLS - k + 1):\n",
        "            line_array = np.zeros((N_ROWS, N_COLS), dtype=bool)\n",
        "            line_array[r, c:c+k] = True\n",
        "            k_in_a_line_list.append(line_array)\n",
        "\n",
        "    # Vertical lines\n",
        "    for c in range(N_COLS):\n",
        "        for r in range(N_ROWS - k + 1):\n",
        "            line_array = np.zeros((N_ROWS, N_COLS), dtype=bool)\n",
        "            line_array[r:r+k, c] = True\n",
        "            k_in_a_line_list.append(line_array)\n",
        "\n",
        "    # Diagonal (bottom-left to top-right)\n",
        "    for r in range(N_ROWS - k + 1):\n",
        "        for c in range(N_COLS - k + 1):\n",
        "            line_array = np.zeros((N_ROWS, N_COLS), dtype=bool)\n",
        "            for i in range(k):\n",
        "                line_array[r + i, c + i] = True\n",
        "            k_in_a_line_list.append(line_array)\n",
        "\n",
        "    # Diagonal (top-left to bottom-right)\n",
        "    for r in range(k - 1, N_ROWS):\n",
        "        for c in range(N_COLS - k + 1):\n",
        "            line_array = np.zeros((N_ROWS, N_COLS), dtype=bool)\n",
        "            for i in range(k):\n",
        "                line_array[r - i, c + i] = True\n",
        "            k_in_a_line_list.append(line_array)\n",
        "\n",
        "    # Stack to Final Shape: (n_k_in_a_lines, N_ROWS, N_COLS)\n",
        "    stacked_k_in_a_lines = np.stack(k_in_a_line_list)\n",
        "    return stacked_k_in_a_lines\n",
        "\n",
        "THREE_IN_A_ROW_MASK = jnp.logical_not(create_k_in_a_lines(k=3))\n",
        "#Shape (n_3_in_a_rows, N_ROWS, N_COLS) For a 3x3 board n_3_in_a_rows is 8\n",
        "\n",
        "@jax.jit\n",
        "def which_three_in_a_line(board_bool):\n",
        "  '''Inputs a boolean board of shape (...,N_ROWS,N_COLS) and outputs a boolean array of shape (...,n_3_in_a_rows) with which of the possible 3-in-a-lines are there'''\n",
        "  #Input: board_bool shape (..., N_ROWS, N_COLS) representing a subset of a board\n",
        "  #Output: shape (..., n_3_in_a_lines) of bool with which 3-in-a-lines are there or not\n",
        "\n",
        "  #Shape (..., 1, N_ROWS, N_COLS) so it can be broadcasted with the create_k_lines_mask\n",
        "  broadcastable_board = rearrange(board_bool, '... row col -> ... 1 row col')  #Shape (..., 1, N_ROWS, N_COLS) so it can be broadcast\n",
        "\n",
        "  line_check_board = jnp.logical_or(THREE_IN_A_ROW_MASK, broadcastable_board )\n",
        "  #Shape: ( ... , n_3_in_a_lines, N_ROW, N_COLS) by broadcasting\n",
        "  #..By using a logical_or the board will be ALL trues iff there is a 3 in line\n",
        "\n",
        "\n",
        "  #reduce out the row and column dimensions by doing an 'all' command\n",
        "  which_lines = reduce(line_check_board , '... n_line r c -> ... n_line', 'all')\n",
        "\n",
        "  return which_lines\n",
        "\n",
        "#Examples:\n",
        "#board = jnp.array([[1,1,1,0],[1,0,0,0],[1,0,0,0],[0,0,0,0]])\n",
        "#print(which_three_in_a_line(board))"
      ],
      "metadata": {
        "id": "BJpebaiS5_19"
      },
      "execution_count": 2,
      "outputs": []
    },
    {
      "cell_type": "markdown",
      "source": [
        "# Neural Network"
      ],
      "metadata": {
        "id": "nM67L_909TIe"
      }
    },
    {
      "cell_type": "code",
      "source": [
        "N_ROWS = 4\n",
        "N_COLS = 4\n",
        "### --- NEURAL NETWORK STUFF ---\n",
        "input_size = 3*N_ROWS*N_COLS\n",
        "hidden_size = 64\n",
        "output_size = 1 #one number for the output!\n",
        "\n",
        "def init_params(key, input_size, hidden_size, output_size):\n",
        "    \"\"\"Initialize network parameters (weights and biases)\"\"\"\n",
        "    # Weights and biases for the first layer (input to hidden)\n",
        "    key, subkey = jax.random.split(key)\n",
        "    W1 = jax.random.normal(subkey, (input_size, hidden_size)) * 0.1\n",
        "    b1 = jnp.zeros(hidden_size)\n",
        "\n",
        "    # Weights and biases for the second layer (hidden to output)\n",
        "    key, subkey = jax.random.split(key)\n",
        "    W2 = jax.random.normal(subkey, (hidden_size, hidden_size)) * 0.1\n",
        "    b2 = jnp.zeros(hidden_size)\n",
        "\n",
        "    # Weights and biases for the second layer (hidden to output)\n",
        "    key, subkey = jax.random.split(key)\n",
        "    W3 = jax.random.normal(subkey, (hidden_size, output_size)) * 0.1\n",
        "    b3 = jnp.zeros(output_size)\n",
        "\n",
        "    return (W1, b1, W2, b2, W3, b3)\n",
        "\n",
        "@jax.jit\n",
        "def relu(x):\n",
        "    \"\"\"ReLU activation function\"\"\"\n",
        "    return jnp.maximum(0, x)\n",
        "\n",
        "@jax.jit\n",
        "def value(params, board):\n",
        "    \"\"\"Feedforward function. Returns the logit value for the state\"\"\"\n",
        "    W1, b1, W2, b2, W3, b3 = params\n",
        "    #one_hot_neg1 = (board == -1)  # Where board is -1\n",
        "    one_hot_0 = (board == 0)     # Where board is 0\n",
        "    one_hot_1 = (board == 1)     # Where board is 1\n",
        "    one_hot_2 = (board == 2)      # Where board is 2\n",
        "\n",
        "    # Stack along a new axis to form a one-hot encoding (last dimension will be 4)\n",
        "    #one_hot = jnp.stack([one_hot_neg1, one_hot_1, one_hot_0, one_hot_2], axis=-1)  # Shape (..., N_ROWS, N_COLS, 4)\n",
        "\n",
        "    one_hot = jnp.stack([one_hot_1, one_hot_0, one_hot_2], axis=-1)  # Shape (..., N_ROWS, N_COLS, 4)\n",
        "\n",
        "    # Flatten the last three dimensions into a single vector using einops\n",
        "    x = rearrange(one_hot, \"... N_ROWS N_COLS C -> ... (N_ROWS N_COLS C)\")\n",
        "\n",
        "    first = jnp.dot(x, W1) + b1\n",
        "    hidden = jnp.dot(relu(first),W2) + b2  # Hidden layer with ReLU\n",
        "    output = 2.0*jax.nn.sigmoid(jnp.dot(relu(hidden),W3) + b3) - 1.0\n",
        "\n",
        "    #log_probs = jax.nn.log_softmax(output, axis=-1)  # get the log probs\n",
        "    return rearrange(output, \"... 1 -> ...\")\n"
      ],
      "metadata": {
        "id": "1b_O_i3Pza8E"
      },
      "execution_count": 3,
      "outputs": []
    },
    {
      "cell_type": "code",
      "source": [
        "key = jax.random.PRNGKey(42)\n",
        "params = init_params(key, input_size, hidden_size, output_size)\n",
        "N_BATCH = 3\n",
        "boards = jax.random.choice(key,jnp.array([0,1,2]),(N_BATCH,N_ROWS, N_COLS))\n",
        "print(value(params,boards))"
      ],
      "metadata": {
        "colab": {
          "base_uri": "https://localhost:8080/"
        },
        "id": "Wt6jqGiKzcq7",
        "outputId": "22c712f0-b013-4089-f0c1-08eb802d98f3"
      },
      "execution_count": 4,
      "outputs": [
        {
          "output_type": "stream",
          "name": "stdout",
          "text": [
            "[ 0.04973626 -0.03553081  0.09139383]\n"
          ]
        }
      ]
    },
    {
      "cell_type": "code",
      "source": [
        "def loss(params,boards,returns):\n",
        "  return jnp.mean( (value(params,boards) - returns)**2 )\n",
        "\n",
        "loss_grad = jax.grad(loss)\n",
        "my_returns = jnp.ones(N_BATCH)\n",
        "the_grad = loss_grad(params,boards,my_returns)\n",
        "print(type(the_grad))"
      ],
      "metadata": {
        "colab": {
          "base_uri": "https://localhost:8080/"
        },
        "id": "cWynIHst4Z_X",
        "outputId": "104b2040-ebd7-41bb-d130-684349e09b5e"
      },
      "execution_count": 5,
      "outputs": [
        {
          "output_type": "stream",
          "name": "stdout",
          "text": [
            "<class 'tuple'>\n"
          ]
        }
      ]
    },
    {
      "cell_type": "markdown",
      "source": [
        "# Dealing with Tuples"
      ],
      "metadata": {
        "id": "wDAyI9Dc5Joy"
      }
    },
    {
      "cell_type": "code",
      "source": [
        "for p in params:\n",
        "  print(p.shape)"
      ],
      "metadata": {
        "colab": {
          "base_uri": "https://localhost:8080/"
        },
        "id": "Mhz7Xpu45BZt",
        "outputId": "ed2ff12c-9b49-444b-965a-522a855988a8"
      },
      "execution_count": 6,
      "outputs": [
        {
          "output_type": "stream",
          "name": "stdout",
          "text": [
            "(48, 64)\n",
            "(64,)\n",
            "(64, 64)\n",
            "(64,)\n",
            "(64, 1)\n",
            "(1,)\n"
          ]
        }
      ]
    },
    {
      "cell_type": "code",
      "source": [
        "def tupl_minus_python(tupl_a, tupl_b):\n",
        "  return tuple(map(lambda x, y: x - y, tupl_a, tupl_b))\n",
        "\n",
        "params_new = tupl_minus_python(params,the_grad)"
      ],
      "metadata": {
        "id": "ncqOgsmJ06cm"
      },
      "execution_count": 7,
      "outputs": []
    },
    {
      "cell_type": "code",
      "source": [
        "@jax.jit\n",
        "def tupl_minus_jax(tupl_a, tupl_b):\n",
        "  return jax.tree.map(lambda a, b: a - b, tupl_a, tupl_b)\n",
        "\n",
        "params_new = tupl_minus_jax(params,the_grad)"
      ],
      "metadata": {
        "id": "rPV6MYhA1hXm"
      },
      "execution_count": 8,
      "outputs": []
    },
    {
      "cell_type": "markdown",
      "source": [
        "# Using an Optimizer"
      ],
      "metadata": {
        "id": "aM80oP8L14m9"
      }
    },
    {
      "cell_type": "code",
      "source": [
        "#Train AI on a bunch of \"finsihed\" final state boards\n",
        "def generate_boards(key, N_samples):\n",
        "    \"\"\"Generates N_samples boards of shape (N_ROW, N_COL) filled with 1s and 2s.\"\"\"\n",
        "    total_cells = N_ROWS * N_COLS\n",
        "    half_cells = total_cells // 2  # Assume even number of cells for simplicity\n",
        "\n",
        "    # Generate random permutations of indices for each board\n",
        "    keys = jax.random.split(key, N_samples)\n",
        "    indices = jax.vmap(lambda k: jax.random.permutation(k, total_cells))(keys)\n",
        "\n",
        "    # Create a template board with half 1s and half 2s\n",
        "    base_board = jnp.concatenate([jnp.ones(half_cells, dtype=int), 2 * jnp.ones(total_cells - half_cells, dtype=int)])\n",
        "\n",
        "    # Shuffle this base board according to the random permutations\n",
        "    boards = jax.vmap(lambda idx: base_board[idx].reshape(N_ROWS, N_COLS))(indices)\n",
        "\n",
        "    return boards  # Shape: (N_samples, N_ROW, N_COL)"
      ],
      "metadata": {
        "id": "236G4fF70QAr"
      },
      "execution_count": 9,
      "outputs": []
    },
    {
      "cell_type": "code",
      "source": [
        "import optax"
      ],
      "metadata": {
        "id": "R4jArpc78u8k"
      },
      "execution_count": 10,
      "outputs": []
    },
    {
      "cell_type": "code",
      "source": [
        "params = init_params(key, input_size, hidden_size, output_size)\n",
        "optimizer = optax.adam(learning_rate=1e-2) #rate between 1e-2 and 1e-3 is a good choice!\n",
        "optimizer_state = optimizer.init(params)"
      ],
      "metadata": {
        "id": "hvRKTTd166Ts"
      },
      "execution_count": 11,
      "outputs": []
    },
    {
      "cell_type": "code",
      "source": [
        "#how to do an update to parameters using the optimizer\n",
        "my_grad_vals = loss_grad(params, boards, my_returns)\n",
        "updates, optimizer_state = optimizer.update(my_grad_vals, optimizer_state)\n",
        "params = optax.apply_updates(params, updates)"
      ],
      "metadata": {
        "id": "vhufaz1F8zpk"
      },
      "execution_count": 12,
      "outputs": []
    },
    {
      "cell_type": "code",
      "source": [
        "import matplotlib.pyplot as plt\n",
        "from tqdm import tqdm"
      ],
      "metadata": {
        "id": "qIn3JIcw8wi1"
      },
      "execution_count": 13,
      "outputs": []
    },
    {
      "cell_type": "code",
      "source": [
        "N_BATCH = 1_000\n",
        "num_iters = 1000\n",
        "loss = np.zeros(num_iters)\n",
        "for i in tqdm(range(num_iters)):\n",
        "  key, subkey = jax.random.split(key)\n",
        "  boards = generate_boards(key, N_BATCH)\n",
        "\n",
        "  which_victory_points = which_three_in_a_line(boards == 1) - 1*which_three_in_a_line(boards == 2)\n",
        "  net_victory_points = reduce(which_victory_points, '... n_line -> ...', 'sum')\n",
        "  returns = jnp.sign(net_victory_points)\n",
        "\n",
        "  RMSE = jnp.sqrt(jnp.mean((value(params, boards) - returns)**2))\n",
        "  loss[i] = RMSE\n",
        "  if i==0 or (i+1) % (num_iters // 10) == 0:\n",
        "    print(f\"Iteration: {i}, RMSE: {RMSE:.3f}\")\n",
        "\n",
        "  my_grad_vals = loss_grad(params, boards, returns)\n",
        "  updates, optimizer_state = optimizer.update(my_grad_vals, optimizer_state)\n",
        "  params = optax.apply_updates(params, updates)\n",
        "\n",
        "plt.plot(loss)"
      ],
      "metadata": {
        "colab": {
          "base_uri": "https://localhost:8080/",
          "height": 656
        },
        "id": "-KukN_l90Suj",
        "outputId": "b6118f17-ea3a-4a5a-d71c-dfc5d4edad1c"
      },
      "execution_count": 14,
      "outputs": [
        {
          "output_type": "stream",
          "name": "stderr",
          "text": [
            "\r  0%|          | 0/1000 [00:00<?, ?it/s]"
          ]
        },
        {
          "output_type": "stream",
          "name": "stdout",
          "text": [
            "Iteration: 0, RMSE: 0.894\n"
          ]
        },
        {
          "output_type": "stream",
          "name": "stderr",
          "text": [
            " 11%|█         | 106/1000 [00:07<00:22, 39.87it/s]"
          ]
        },
        {
          "output_type": "stream",
          "name": "stdout",
          "text": [
            "Iteration: 99, RMSE: 0.508\n"
          ]
        },
        {
          "output_type": "stream",
          "name": "stderr",
          "text": [
            " 20%|██        | 203/1000 [00:10<00:21, 37.51it/s]"
          ]
        },
        {
          "output_type": "stream",
          "name": "stdout",
          "text": [
            "Iteration: 199, RMSE: 0.422\n"
          ]
        },
        {
          "output_type": "stream",
          "name": "stderr",
          "text": [
            " 30%|███       | 305/1000 [00:12<00:17, 40.55it/s]"
          ]
        },
        {
          "output_type": "stream",
          "name": "stdout",
          "text": [
            "Iteration: 299, RMSE: 0.334\n"
          ]
        },
        {
          "output_type": "stream",
          "name": "stderr",
          "text": [
            " 40%|████      | 405/1000 [00:16<00:17, 34.29it/s]"
          ]
        },
        {
          "output_type": "stream",
          "name": "stdout",
          "text": [
            "Iteration: 399, RMSE: 0.298\n"
          ]
        },
        {
          "output_type": "stream",
          "name": "stderr",
          "text": [
            " 50%|█████     | 505/1000 [00:19<00:12, 40.14it/s]"
          ]
        },
        {
          "output_type": "stream",
          "name": "stdout",
          "text": [
            "Iteration: 499, RMSE: 0.258\n"
          ]
        },
        {
          "output_type": "stream",
          "name": "stderr",
          "text": [
            " 60%|██████    | 603/1000 [00:21<00:09, 40.05it/s]"
          ]
        },
        {
          "output_type": "stream",
          "name": "stdout",
          "text": [
            "Iteration: 599, RMSE: 0.183\n"
          ]
        },
        {
          "output_type": "stream",
          "name": "stderr",
          "text": [
            " 70%|███████   | 705/1000 [00:24<00:07, 40.40it/s]"
          ]
        },
        {
          "output_type": "stream",
          "name": "stdout",
          "text": [
            "Iteration: 699, RMSE: 0.183\n"
          ]
        },
        {
          "output_type": "stream",
          "name": "stderr",
          "text": [
            " 80%|████████  | 803/1000 [00:27<00:08, 22.96it/s]"
          ]
        },
        {
          "output_type": "stream",
          "name": "stdout",
          "text": [
            "Iteration: 799, RMSE: 0.184\n"
          ]
        },
        {
          "output_type": "stream",
          "name": "stderr",
          "text": [
            " 90%|█████████ | 905/1000 [00:30<00:02, 40.15it/s]"
          ]
        },
        {
          "output_type": "stream",
          "name": "stdout",
          "text": [
            "Iteration: 899, RMSE: 0.119\n"
          ]
        },
        {
          "output_type": "stream",
          "name": "stderr",
          "text": [
            "100%|██████████| 1000/1000 [00:33<00:00, 30.21it/s]"
          ]
        },
        {
          "output_type": "stream",
          "name": "stdout",
          "text": [
            "Iteration: 999, RMSE: 0.118\n"
          ]
        },
        {
          "output_type": "stream",
          "name": "stderr",
          "text": [
            "\n"
          ]
        },
        {
          "output_type": "execute_result",
          "data": {
            "text/plain": [
              "[<matplotlib.lines.Line2D at 0x7dd12c658b10>]"
            ]
          },
          "metadata": {},
          "execution_count": 14
        },
        {
          "output_type": "display_data",
          "data": {
            "text/plain": [
              "<Figure size 640x480 with 1 Axes>"
            ],
            "image/png": "[encoded data removed]"
          },
          "metadata": {}
        }
      ]
    }
  ]
}