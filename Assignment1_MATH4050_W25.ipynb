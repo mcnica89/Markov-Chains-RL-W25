{
  "nbformat": 4,
  "nbformat_minor": 0,
  "metadata": {
    "colab": {
      "provenance": [],
      "authorship_tag": "ABX9TyMdfTLpLeqRHm7J8JvP0TUz",
      "include_colab_link": true
    },
    "kernelspec": {
      "name": "python3",
      "display_name": "Python 3"
    },
    "language_info": {
      "name": "python"
    }
  },
  "cells": [
    {
      "cell_type": "markdown",
      "metadata": {
        "id": "view-in-github",
        "colab_type": "text"
      },
      "source": [
        "<a href=\"https://colab.research.google.com/github/mcnica89/Markov-Chains-RL-W25/blob/main/Assignment1_MATH4050_W25.ipynb\" target=\"_parent\"><img src=\"https://colab.research.google.com/assets/colab-badge.svg\" alt=\"Open In Colab\"/></a>"
      ]
    },
    {
      "cell_type": "code",
      "source": [
        "import numpy as np"
      ],
      "metadata": {
        "id": "HAVpbL0-hu-V"
      },
      "execution_count": null,
      "outputs": []
    },
    {
      "cell_type": "markdown",
      "source": [
        "# Instructions\n",
        "\n",
        "- Please see detailed instuctions on courselink website."
      ],
      "metadata": {
        "id": "tAD3AQykE0kn"
      }
    },
    {
      "cell_type": "markdown",
      "source": [
        "# Problem 1 - Custom Dice Adder (up to a Maximum Value)\n",
        "\n",
        "Imagine you have some custom dice and want to see what happens when you add up a bunch of these dice. To do this we will think of the running total of these dice as a state of a Markov chain on the state space $\\mathbb{N}^{\\geq 0}=\\{0,1,2,\\ldots, \\} $, and then we can think of each dice roll being added on as a single step of the Markov chain. Each dice rolled adds to the running total.\n",
        "\n",
        "To implement this infinite state space on a finite computer we use the modified state space $\\{0,1,2,\\ldots, \\text{max_val} \\}$ where \"max_val\" stands for \"maximum value\". Whenever the running total of the dice would exceed max_val, we simply count it as staying at max_val instead. That way, the state max_val will count the ways the sum of the dice could be $\\geq$ max_val.\n",
        "\n",
        "## Problem 1a\n",
        "\n",
        "Given the numbers on the sides of a dice, write a function that calculates the transition matrix for a step associated with this dice. Your function will input\n",
        "- ```max_val``` : A positive integer. The maximum value we keep track of for running totals as described above. Any rolls that exceed this will just be reported at the max_val.\n",
        "- ```dice_list```: A Python list of numbers showing the sides of the dice. e.g. a classic 6 sided dice is ```dice_list = [1,2,3,4,5,6]```. The number of sides of the dice is the length of this list, and all the values of the sides are non-negative integers.\n",
        "\n",
        "And the function outputs:\n",
        "- ```answer``` : A numpy array of shape ```max_val+1,max_val+1``` which represents the transition matrix for adding the dice to the running total on the state space $\\{0,1,2,\\ldots, \\text{max_val} \\}$\n"
      ],
      "metadata": {
        "id": "mVQgUk0MryM3"
      }
    },
    {
      "cell_type": "code",
      "source": [
        "def dice_matrix(max_val,dice_list):\n",
        "  #Input:\n",
        "  #  max_val : int >=1 . The possible running totals we consider are {0,1,2,...max_val}\n",
        "  #      Note: The NUMBER of states is max_val+1 (since we start at 0). The MAXIMUM VALUE is max_val.\n",
        "  #  dice_list : a list of the sides of the dice e.g. a standard d6 dice is [1,2,3,4,5,6]\n",
        "  #\n",
        "  #Output:\n",
        "  #  answer : a numpy array of size (max_val+1,max_val+1) of float which is the transition matrix for the problem\n",
        "\n",
        "  answer = np.zeros((max_val+1,max_val+1))\n",
        "  #\n",
        "  # Your code here!\n",
        "  #\n",
        "  return answer"
      ],
      "metadata": {
        "id": "Re11EOohyl4d"
      },
      "execution_count": null,
      "outputs": []
    },
    {
      "cell_type": "markdown",
      "source": [
        "# Problem 1b\n",
        "\n",
        "Use what you did before to answer the following: Given a number of times to throw a dice, called ```n_rolls``` and the ```dice_list```, calculate the histogram of rolling the dice that many times. The expected output to this problem can be found on the anydice website https://anydice.com/program/3adcf by entering the commands like ```output 3d{2,3,5,7,11,13}``` to output the sum of ```n_rolls=3``` dice with sides ```dice_list=[2,3,5,7,11,13]```. *Hint:* You will need to decide what to set ```max_val``` to based on the inputs to make sure you get the right answer.\n"
      ],
      "metadata": {
        "id": "RuBKSWify7xt"
      }
    },
    {
      "cell_type": "code",
      "source": [
        "def roll_one_dice_a_bunch(n_dice_rolled,dice_list):\n",
        "  #Input:\n",
        "  #  n_rolls : int >=1 . Number of times to roll the dice\n",
        "  #  dice_list : a list of the sides of the dice e.g. a standard d6 dice is [1,2,3,4,5,6]\n",
        "  #\n",
        "  #Output:\n",
        "  #  answer : a numpy array of size (max_val+1,) of float which is the probabilites for rolling the given dice n_rolls times.\n",
        "\n",
        "  max_val = 1 # Fill in what this should be!\n",
        "  answer = np.zeros(max_val+1,) #will be the probabilities of rolling the dice\n",
        "  #\n",
        "  # Your code here!\n",
        "  #\n",
        "  return answer"
      ],
      "metadata": {
        "id": "-ZryNTSB0i5w"
      },
      "execution_count": null,
      "outputs": []
    },
    {
      "cell_type": "markdown",
      "source": [
        "# Problem 2 - Snakes and Ladders with Reincarnation\n",
        "\n",
        "In class, we looked at a version of snakes and ladders where if you roll past the end square, you finish the game immediately. In another version of the rules, you must land **exactly** on the final square to finish the game, and if you roll *past* the final square, you are instead reincarnated at Square 0. (Example: Using the snakes and ladders board where the final square is Square 9. Suppose you are on square 7, and you roll a 5, then instead of landing on Square 9 as we did in class, you will end up on Square 0 for the next roll.)\n",
        "\n",
        "(*Clarification Jan 17*: You may assume that the starting square, Square 0, is not invovled in any snakes and ladders (i.e. there are no snakes and ladders either to or from Square 0))\n",
        "\n",
        "## Problem 2a\n",
        "\n",
        "Write a function that calculates the transition matrix for this version of the snakes and ladders game. Your function will inputs the following:\n",
        "- ```n``` : The highest number square on the board (e.g. in class ```n=9```. Note that there are ```n+1``` total squares on the board)\n",
        "- ```dice_num_sides```: The number of sides on the dice being used (e.g. in class we did ```dice_num_sides = 6```)\n",
        "- ```snakes_and_ladders_list``` : A Python list of the form ```[ [start,end],[start_2,end_2], ... ]``` where the start and end of each list is an index from 0 to n indicating the start and end of a snake or ladder. (e.g. in the example from class with a Ladder from Square 4 to Square 7 and a Snake from Square 8 to Square 2, we would have ```snakes_and_ladders_list = [[4,7],[8,2]]```)\n",
        "\n",
        "And the function outputs:\n",
        "- ```answer``` : A numpy array of shape ```n+1,n+1``` which represents the transition matrix for the snakes and ladders with reincarnation problem.\n",
        "\n"
      ],
      "metadata": {
        "id": "Oc_ek5D4kluz"
      }
    },
    {
      "cell_type": "code",
      "source": [
        "def snakes_and_ladders_with_reincarnation_matrix(n,dice_num_sides,snakes_and_ladders_list):\n",
        "  #Input:\n",
        "  #  n : int >=1 . The squares on the board are {0,1,2,...n}\n",
        "  #      Note: The NUMBER of states is n+1 (since we start at 0). The MAXIMUM VALUE is n.\n",
        "  #  dice_num_sides : number of sides on the dice\n",
        "  #  snakes_and_ladders_list : a list of the form [[start,end],[start_2,end_2],...] with the location of all the snakes and ladders\n",
        "  #\n",
        "  #Output:\n",
        "  #  answer : a numpy array of size (n+1,n+1) of float which is the transition matrix for the problem\n",
        "\n",
        "  answer = np.zeros((n+1,n+1))\n",
        "  #\n",
        "  # Your code here!\n",
        "  #\n",
        "  return answer"
      ],
      "metadata": {
        "id": "RXPoHk52nrY3"
      },
      "execution_count": null,
      "outputs": []
    },
    {
      "cell_type": "markdown",
      "source": [
        "## Problem 2b\n",
        "\n",
        "When playing this game, the number of times you will be reincarnated is random. Write a function that calculates the *expected* number of times you are reincarnated before the game is finished. Your function will inputs the following:\n",
        "- ```n``` : The highest number square on the board (e.g. in class ```n=9```. Note that there are ```n+1``` total squares on the board)\n",
        "- ```M```: The transition matrix for the problem (i.e. the ouput from Problem 1a)\n",
        "And the function outputs:\n",
        "- ```answer``` : A number which represents the expected number of reincarnations before the game ends.\n",
        "\n",
        "*Hint*: You should do this by setting up the appropriate ``infinite'' sum like we did in class.\n",
        "\n"
      ],
      "metadata": {
        "id": "QdrjyTFxpB_-"
      }
    },
    {
      "cell_type": "code",
      "source": [
        "def E_reincarnations(n,M):\n",
        "  #Input:\n",
        "  #  n : int >=1 . The squares on the board are {0,1,2,...n}\n",
        "  #      Note: The NUMBER of states is n+1 (since we start at 0). The MAXIMUM VALUE is n.\n",
        "  #  M : a numpy array of size (n+1,n+1) of float which is the transition matrix for the problem\n",
        "\n",
        "  answer = 0.0\n",
        "  #\n",
        "  # Your code here!\n",
        "  #\n",
        "  return answer"
      ],
      "metadata": {
        "id": "YXs8mA7pp_Jf"
      },
      "execution_count": null,
      "outputs": []
    },
    {
      "cell_type": "markdown",
      "source": [
        "# Problem 3 Simulate a Markov Chain given the Transition Matrix\n",
        "\n",
        "Given a positive integer ```n``` , an initial state ```x_init``` from $\\{0,1,\\ldots,n\\}$, an shape ```n+1, n+1``` transition matrix, and a final time ```t_max``` $ \\in \\mathbb{N}$, write a program that does a random simulates the Markov Chain on the state space $\\{0,1,\\ldots,n\\}$, i.e. produce a sequence of random variables $S_0,S_1,\\ldots, S_{t_{max}}$ and output this as a numpy vector of length ```(t_max+1,)```.\n",
        "\n",
        "*Hint:* The np.random.choice function with its p vector can be very useful for this problem See https://numpy.org/doc/2.1/reference/random/generated/numpy.random.choice.html ."
      ],
      "metadata": {
        "id": "M_ANYvg70AGh"
      }
    },
    {
      "cell_type": "code",
      "source": [
        "def markov_chain_sim(n,x_init,M,t_max):\n",
        "  #Input:\n",
        "  #  n : int >=1 . The state space for the markov chain is {0,1,2,...n}\n",
        "  #      Note: The NUMBER of states is n+1 (since we start at 0). The MAXIMUM VALUE is n.\n",
        "  #  x_init : int starting state at time 0\n",
        "  #  M : a numpy arrray of size (n+1,n+1) which is the transition matrix\n",
        "  #  t_max : number of time steps to simulate\n",
        "  #Output:\n",
        "  #  answer : a numpy array of size (t_max+1,) of int that represents a random sample of the Markov chain\n",
        "  #          Notes:\n",
        "  #          answer[0] = x_init always\n",
        "  #          answer[t] is always in {0,1,2,...n} for all t\n",
        "  #          The function is a **random** function and will have different outputs everytime you run it.\n",
        "\n",
        "  answer = np.zeros(t_max+1,dtype=int)\n",
        "  answer[0] = x_init\n",
        "  #\n",
        "  # Your code here\n",
        "  #\n",
        "  return answer\n",
        "\n",
        "#Example: In the snakes and ladders example from class, a typical output might look like [0,7,2,7,9,9,9,9,9]\n"
      ],
      "metadata": {
        "id": "NTpGHy4DxPfF"
      },
      "execution_count": null,
      "outputs": []
    },
    {
      "cell_type": "markdown",
      "source": [
        "## Checking your answer to Problem 3\n",
        "\n",
        "You don't have to submit any code or antyhing for this section; this section just gives you a tool you can use to test your function to see if its working. This is a function called ```empirical_transition_matrix``` which tries to recalculate the matrix from the given sequence.\n",
        "\n",
        "Example:\n",
        "\n",
        "```example_sequence = np.array([1,1,0,1,1],dtype=int)```\n",
        "```empirical_transition_matrix(n=1,sequence=example_sequence)```\n",
        "\n",
        "\n",
        "This produces:\n",
        "\n",
        "```array([[0.        , 1.        ],```\n",
        "```       [0.33333333, 0.66666667]])```\n",
        " This is because in the given sample, 100% of the State0s are followed by State 1\n",
        " and 1/3 of the State1's are followed by a State0, and 2/3 of the State1s are followed by a State1. (Only counting State1's for which we saw the next transition)\n",
        "\n",
        "### HOW TO TEST YOUR FUNCTION\n",
        "FACT: If you have an irreducible Markov chain, the empirical transition matrix will converge to the true transition matrix as the length of the simulation grows large. To test your simulation function, feed a long output into the empircal transition matrix function and see if you get back close the original transition matirx.\n"
      ],
      "metadata": {
        "id": "Kuv7cw1z1ipA"
      }
    },
    {
      "cell_type": "code",
      "source": [
        "#To check if your program is running as expected, we will take the output of your program, and compute the emprical transition matrix\n",
        "# The provided function below computes teh empirical transition matrix.\n",
        "# This is a matrix which uses the number of transitions from each state to approximate the transition matrix\n",
        "# If your program is working as expected, and all states are reachable from all states, the empircal transition matrix should be close to the true transition matrix as t_max gets large\n",
        "\n",
        "def empirical_transition_matrix(n, sequence):\n",
        "  #Input:\n",
        "  # n : Maximum value of state\n",
        "  # sequence : a realization sequnece (S_0,S_1,...S_{t_max}) of the markov chain\n",
        "  #Ouput:\n",
        "  # answer : an (n+1,n+1) matrix which is the empircal transition matrix\n",
        "  #          the emprical transition matrix whose i,j entry is the\n",
        "  #          number of time (i,j) appears divided by the total number i appears.\n",
        "\n",
        "  #counts the number of times each state is visited (not counting the last one!)\n",
        "  state_counts = np.bincount(sequence[:-1],minlength=n+1)\n",
        "\n",
        "  #counts the number of times each pair (state,next_state) happens\n",
        "  # the states are encoded here by the formula (state,next_state) -> state + n_states*next_state\n",
        "  # so for example if n_states = 2, then the pair (0,1) -> 2 is encoded as the number 2.\n",
        "  n_states = n+1\n",
        "  transitions = sequence[:-1] + n_states*np.roll(sequence,-1)[:-1]\n",
        "\n",
        "  #counts the number of each type of transition using the same encoding\n",
        "  #Ex: if n_states = 2, transition_counts[2] is the number of times (state,next_state)=(0,1) appears\n",
        "  transition_counts = np.bincount(transitions,minlength=n_states**2)\n",
        "\n",
        "  #will be the output to the function\n",
        "  answer = np.zeros((n_states,n_states))\n",
        "\n",
        "  def safe_divide(a,b):\n",
        "    #returns a/b but is \"safe\" in the case b=0. Return 0 if b=0.\n",
        "    # where a,b are numpy arrays, returns a/b if b!=0 and just 0 if b=0\n",
        "    return np.divide(a, b, out=np.zeros_like(a,dtype=float), where=(b!=0) )\n",
        "\n",
        "  #the answer is the numebr of time (i,j) appears over the number of times i appears\n",
        "  i,j = np.indices((n_states,n_states))\n",
        "  answer[i,j] = safe_divide(transition_counts[i+n_states*j],state_counts[i])\n",
        "\n",
        "  #This above code with np.indices is a faster/more efficient version of the following equivalent code with for loops:\n",
        "  #for i in range(n_states):\n",
        "  #  for j in range(n_states):\n",
        "  #    if state_counts[i] > 0:\n",
        "  #      #the answer is the numebr of time (i,j) appears over the number of times i appears\n",
        "  #      answer[i,j] = transition_counts[i+n_states*j]/state_counts[i]\n",
        "\n",
        "  return answer\n",
        "\n"
      ],
      "metadata": {
        "id": "8eNHLkNPx73G"
      },
      "execution_count": null,
      "outputs": []
    }
  ]
}